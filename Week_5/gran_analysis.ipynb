{
 "cells": [
  {
   "cell_type": "markdown",
   "metadata": {
    "colab_type": "text",
    "id": "EAXUxAzag1sI"
   },
   "source": [
    "# Gran Analysis: This script is designed to analyze alkalinity titration data. "
   ]
  },
  {
   "cell_type": "markdown",
   "metadata": {},
   "source": [
    "## Define a custom function\n",
    "This definition helps us find the point where we want to begin the Gran analysis below."
   ]
  },
  {
   "cell_type": "code",
   "execution_count": null,
   "metadata": {
    "colab": {},
    "colab_type": "code",
    "id": "iD49smL_9H8p"
   },
   "outputs": [],
   "source": [
    "# a definition called getIndexes to find the position of a value in a dataframe\n",
    "def find_neighbours(df, value):\n",
    "    exactmatch = df[df[\"Volume (ml)\"] == value]\n",
    "    if not exactmatch.empty:\n",
    "        return exactmatch.index\n",
    "    else:\n",
    "        lowerneighbour_ind = df[df[\"Volume (ml)\"] < value][\"Volume (ml)\"].idxmax()\n",
    "        upperneighbour_ind = df[df[\"Volume (ml)\"] > value][\"Volume (ml)\"].idxmin()\n",
    "        return [lowerneighbour_ind, upperneighbour_ind]\n"
   ]
  },
  {
   "cell_type": "markdown",
   "metadata": {},
   "source": [
    "# Data input\n",
    "Replace `alk7.csv` with the filename of your data and input your conductivity values."
   ]
  },
  {
   "cell_type": "code",
   "execution_count": null,
   "metadata": {
    "colab": {},
    "colab_type": "code",
    "id": "uR9ijZ-2W6_X"
   },
   "outputs": [],
   "source": [
    "# This cell puts the uploaded csv file into a pandas dataframe\n",
    "# The file name needs to match exactly \n",
    "import pandas as pd\n",
    "# Replace the file name with the name of sample file\n",
    "df1 = pd.read_csv(\"alk7.csv\")\n",
    "# Replace the value with the conductivity of your a sample \n",
    "cond_a = 130.0\n",
    "# Replace the file name with the name of sample file\n",
    "df2 = pd.read_csv(\"alk7.csv\")\n",
    "# Replace the value with the conductivity of your b sample\n",
    "cond_b = 130.0\n"
   ]
  },
  {
   "cell_type": "markdown",
   "metadata": {},
   "source": [
    "# Examine the data of sample a (Mercer Slough)\n",
    "This is your raw titration data. You might notice burette refilling artifacts since the burette can only hold 1 ml of acid. This figure is saved for you to include in your lab report."
   ]
  },
  {
   "cell_type": "code",
   "execution_count": null,
   "metadata": {
    "colab": {
     "base_uri": "https://localhost:8080/",
     "height": 357
    },
    "colab_type": "code",
    "id": "1y3iW9oNXidA",
    "outputId": "c699fda3-fa3c-49bd-eb3c-682381e8ab2d"
   },
   "outputs": [],
   "source": [
    "# to plot the data we need to import matlibplot\n",
    "import matplotlib.pyplot as plt\n",
    "\n",
    "# to make the plots look nicer we will import the seaborn module\n",
    "import seaborn as sns\n",
    "\n",
    "sns.set_theme()\n",
    "# plot the data and label the axes\n",
    "plt.scatter(df1[\"pH\"], df1[\"Volume (ml)\"])\n",
    "plt.xlabel(\"pH\")\n",
    "plt.ylabel(\"Volume (ml)\")\n",
    "plt.show()\n"
   ]
  },
  {
   "cell_type": "markdown",
   "metadata": {},
   "source": [
    "# Gran Analysis of sample a (Mercer Slough)\n",
    "The Gran function is calculated and plotted for you."
   ]
  },
  {
   "cell_type": "code",
   "execution_count": null,
   "metadata": {
    "colab": {},
    "colab_type": "code",
    "id": "ndRrHGRu23Iz"
   },
   "outputs": [],
   "source": [
    "# import a plotting library that can be used to make interactive plots\n",
    "import plotly.express as px\n",
    "\n",
    "# calculate the Gran function for the entire data set assuming an activity coefficient of 1\n",
    "# volume of sample\n",
    "Vs = df1[\"sampvol\"][0]\n",
    "# normality of the acid\n",
    "Nt = 0.076\n",
    "# H+ activity\n",
    "H = 10 ** -df1[\"pH\"].values\n",
    "# Ionic strength from conductivity\n",
    "I = 1.9e-5 * cond_a\n",
    "# activity coefficient\n",
    "log_gamma = -0.5085*1**2*((I**0.5/(1+I**0.5)) - 0.3*I)\n",
    "act_coef = 10**log_gamma\n",
    "# calculate gran function\n",
    "F1 = ((Vs + df1[\"Volume (ml)\"].values) / Vs) * (H / act_coef)\n",
    "\n",
    "# plot the Gran function\n",
    "fig = px.scatter(df1, x=\"Volume (ml)\", y=F1)\n",
    "fig.show()\n"
   ]
  },
  {
   "cell_type": "markdown",
   "metadata": {},
   "source": [
    "# Examine the linear portion of the Gran function and indicate the volume where the linear portion of the Gran function begins\n",
    "To determine the end point for the titration, we only need to use data at the end of the titration where the data are linear and increasing rapidly. Note the volume where the data start to increase rapidly."
   ]
  },
  {
   "cell_type": "code",
   "execution_count": null,
   "metadata": {
    "colab": {
     "base_uri": "https://localhost:8080/",
     "height": 52
    },
    "colab_type": "code",
    "id": "aZg45BvSaBDS",
    "outputId": "ed0e9e19-0180-4c04-d14e-dc37e840b022"
   },
   "outputs": [],
   "source": [
    "# asks for the volume where the linear portion of the Gran function begins and finds the index value for that point\n",
    "startvol = input(\n",
    "    \"Examine the Gran plot and input the volume you would like to start the regression for the linear portion of the plot: \"\n",
    ")\n",
    "ind = find_neighbours(df1, float(startvol))\n"
   ]
  },
  {
   "cell_type": "markdown",
   "metadata": {},
   "source": [
    "# Examine the extract Gran function\n",
    "Select the next cell and run it. Take a look at the plot and see if you've selected the linear portion of the data. If you need to refine your start point, run the cell above again and revise the start volume. Run the cell below again to check your refinement."
   ]
  },
  {
   "cell_type": "code",
   "execution_count": null,
   "metadata": {
    "colab": {
     "base_uri": "https://localhost:8080/",
     "height": 302
    },
    "colab_type": "code",
    "id": "1JAUU89lGCEO",
    "outputId": "56970d9d-de49-4d1b-d7cf-960e854a0867"
   },
   "outputs": [],
   "source": [
    "# define variables with the extract of data we are interested in\n",
    "vol = df1[\"Volume (ml)\"][ind[0] : -1].values\n",
    "F1ex = F1[ind[0] : -1]\n",
    "# I'll plot just that section of the Gran function\n",
    "plt.figure()\n",
    "plt.plot(vol, F1ex, marker=\"x\", linestyle=\"none\")\n",
    "plt.xlabel(\"Volume (ml)\")\n",
    "plt.ylabel(\"F1\")\n",
    "plt.show()\n"
   ]
  },
  {
   "cell_type": "markdown",
   "metadata": {
    "colab_type": "text",
    "id": "ZRM56fq7O28d",
    "tags": []
   },
   "source": [
    "# Final analysis of sample a (Mercer Slough)\n",
    "To determine the endpoint for our titration we need to fit a curve to this section of the gran function and then extrapolate that line back to the x-axis. The point where our extrapolated line intersects the x-axis is the endpoint volume for our titration. We'll use the `numpy` module to help us do that. The final plot is saved for you to include in your lab report."
   ]
  },
  {
   "cell_type": "code",
   "execution_count": null,
   "metadata": {
    "colab": {
     "base_uri": "https://localhost:8080/",
     "height": 302
    },
    "colab_type": "code",
    "id": "X0OfRF1OPUDf",
    "outputId": "3eb6f436-ab5e-4714-e72f-546ca6b3c9ff"
   },
   "outputs": [],
   "source": [
    "# import the numpy module so we can call various functions for the linear regression\n",
    "import numpy as np\n",
    "\n",
    "# get the coefficients for the linear regression fit to our extracted portion of data\n",
    "coefficients = np.polyfit(vol, F1ex, 1)\n",
    "\n",
    "# put those coefficients into a 1st degree polynomial so we can calculate some points to\n",
    "# show the linear regression on our plot\n",
    "polynomial = np.poly1d(coefficients)\n",
    "\n",
    "# choose a couple of x values to calculate y values for plotting our linear regression\n",
    "volex = [df1[\"Volume (ml)\"][ind[0]] - 0.05, df1[\"Volume (ml)\"].iloc[-1]]\n",
    "fit_line = polynomial(volex)\n",
    "\n",
    "# calculate the end point of the titration (i.e., the x value when y =0)\n",
    "endpoint = round(-1 * coefficients[1] / coefficients[0], 3)\n",
    "\n",
    "# calculate the alkalinity using the end point vol, sample volume, and acid concentration\n",
    "alk = Nt * endpoint / Vs\n",
    "print(\"[alk] = %.3e M\" % alk)\n",
    "print(\"Approximate ionic strength = %.4f M\" % I)\n",
    "print(\"Approximate activity coefficient of H+ = %.2f\" % act_coef)\n",
    "# plot the extracted portion of the Gran function, the linear regression, and end point\n",
    "plt.figure()\n",
    "plt.plot(vol, F1ex, marker=\"x\", linestyle=\"none\", label=\"Gran Function\")\n",
    "plt.plot(volex, fit_line, label=\"linear regression\")\n",
    "plt.scatter(endpoint, 0, marker=\"o\", label=\"end point\")\n",
    "plt.xlabel(\"Volume (ml)\")\n",
    "plt.ylabel(\"F1\")\n",
    "plt.legend()\n",
    "\n",
    "# annotate the plot to show the value of the end point\n",
    "plt.annotate(\n",
    "    str(endpoint),\n",
    "    xy=(endpoint, 0),\n",
    "    xycoords=\"data\",\n",
    "    xytext=(0.26, 0.5),\n",
    "    textcoords=\"axes fraction\",\n",
    "    arrowprops=dict(facecolor=\"black\", shrink=0.05),\n",
    "    horizontalalignment=\"center\",\n",
    "    verticalalignment=\"center\",\n",
    ")\n",
    "\n",
    "# Save and download the plot\n",
    "plt.savefig(\"alk_analysis_r1.png\", bbox_inches=\"tight\")\n",
    "plt.savefig(\"alk_analysis_r1.pdf\", bbox_inches=\"tight\")\n"
   ]
  },
  {
   "cell_type": "markdown",
   "metadata": {},
   "source": [
    "# Examine the data of sample b\n",
    "This is your raw titration data. You might notice burette refilling artifacts since the burette can only hold 1 ml of acid. This figure is saved for you to include in your lab report."
   ]
  },
  {
   "cell_type": "code",
   "execution_count": null,
   "metadata": {},
   "outputs": [],
   "source": [
    "# to plot the data we need to import matlibplot\n",
    "import matplotlib.pyplot as plt\n",
    "\n",
    "# to make the plots look nicer we will import the seaborn module\n",
    "import seaborn as sns\n",
    "\n",
    "sns.set_theme()\n",
    "# plot the data and label the axes\n",
    "plt.scatter(df2[\"pH\"], df2[\"Volume (ml)\"])\n",
    "plt.xlabel(\"pH\")\n",
    "plt.ylabel(\"Volume (ml)\")\n",
    "plt.show()\n"
   ]
  },
  {
   "cell_type": "markdown",
   "metadata": {},
   "source": [
    "# Gran Analysis of sample b\n",
    "The Gran function is calculated and plotted for you."
   ]
  },
  {
   "cell_type": "code",
   "execution_count": null,
   "metadata": {
    "colab": {},
    "colab_type": "code",
    "id": "ndRrHGRu23Iz"
   },
   "outputs": [],
   "source": [
    "# import a plotting library that can be used to make interactive plots\n",
    "import plotly.express as px\n",
    "\n",
    "# calculate the Gran function for the entire data set assuming an activity coefficient of 1\n",
    "# volume of sample\n",
    "Vs = df2[\"sampvol\"][0]\n",
    "# normality of the acid\n",
    "Nt = 0.076\n",
    "# H+ activity\n",
    "H = 10 ** -df2[\"pH\"].values\n",
    "# Ionic strength from conductivity\n",
    "I = 1.9e-5 * cond_b\n",
    "# activity coefficient\n",
    "log_gamma = -0.5085*1**2*((I**0.5/(1+I**0.5)) - 0.3*I)\n",
    "act_coef = 10**log_gamma\n",
    "# calculate gran function\n",
    "F1 = ((Vs + df2[\"Volume (ml)\"].values) / Vs) * (H / act_coef)\n",
    "\n",
    "# plot the Gran function\n",
    "fig = px.scatter(df2, x=\"Volume (ml)\", y=F1)\n",
    "fig.show()\n"
   ]
  },
  {
   "cell_type": "markdown",
   "metadata": {},
   "source": [
    "# Examine the linear portion of the Gran function and indicate the volume where the linear portion of the Gran function begins\n",
    "To determine the end point for the titration, we only need to use data at the end of the titration where the data are linear and increasing rapidly. Note the volume where the data start to increase rapidly."
   ]
  },
  {
   "cell_type": "code",
   "execution_count": null,
   "metadata": {
    "colab": {
     "base_uri": "https://localhost:8080/",
     "height": 52
    },
    "colab_type": "code",
    "id": "aZg45BvSaBDS",
    "outputId": "ed0e9e19-0180-4c04-d14e-dc37e840b022"
   },
   "outputs": [],
   "source": [
    "# asks for the volume where the linear portion of the Gran function begins and finds the index value for that point\n",
    "startvol = input(\n",
    "    \"Examine the Gran plot and input the volume you would like to start the regression for the linear portion of the plot: \"\n",
    ")\n",
    "ind = find_neighbours(df2, float(startvol))\n"
   ]
  },
  {
   "cell_type": "markdown",
   "metadata": {},
   "source": [
    "# Examine the extract Gran function\n",
    "Select the next cell and run it. Take a look at the plot and see if you've selected the linear portion of the data. If you need to refine your start point, run the cell above again and revise the start volume. Run the cell below again to check your refinement."
   ]
  },
  {
   "cell_type": "code",
   "execution_count": null,
   "metadata": {
    "colab": {
     "base_uri": "https://localhost:8080/",
     "height": 302
    },
    "colab_type": "code",
    "id": "1JAUU89lGCEO",
    "outputId": "56970d9d-de49-4d1b-d7cf-960e854a0867"
   },
   "outputs": [],
   "source": [
    "# define variables with the extract of data we are interested in\n",
    "vol = df2[\"Volume (ml)\"][ind[0] : -1].values\n",
    "F1ex = F1[ind[0] : -1]\n",
    "# I'll plot just that section of the Gran function\n",
    "plt.figure()\n",
    "plt.plot(vol, F1ex, marker=\"x\", linestyle=\"none\")\n",
    "plt.xlabel(\"Volume (ml)\")\n",
    "plt.ylabel(\"F1\")\n",
    "plt.show()\n"
   ]
  },
  {
   "cell_type": "markdown",
   "metadata": {
    "colab_type": "text",
    "id": "ZRM56fq7O28d",
    "tags": []
   },
   "source": [
    "# Final analysis of sample b\n",
    "To determine the endpoint for our titration we need to fit a curve to this section of the gran function and then extrapolate that line back to the x-axis. The point where our extrapolated line intersects the x-axis is the endpoint volume for our titration. We'll use the `numpy` module to help us do that. The final plot is saved for you to include in your lab report."
   ]
  },
  {
   "cell_type": "code",
   "execution_count": null,
   "metadata": {
    "colab": {
     "base_uri": "https://localhost:8080/",
     "height": 302
    },
    "colab_type": "code",
    "id": "X0OfRF1OPUDf",
    "outputId": "3eb6f436-ab5e-4714-e72f-546ca6b3c9ff"
   },
   "outputs": [],
   "source": [
    "# import the numpy module so we can call various functions for the linear regression\n",
    "import numpy as np\n",
    "\n",
    "# get the coefficients for the linear regression fit to our extracted portion of data\n",
    "coefficients = np.polyfit(vol, F1ex, 1)\n",
    "\n",
    "# put those coefficients into a 1st degree polynomial so we can calculate some points to\n",
    "# show the linear regression on our plot\n",
    "polynomial = np.poly1d(coefficients)\n",
    "\n",
    "# choose a couple of x values to calculate y values for plotting our linear regression\n",
    "volex = [df2[\"Volume (ml)\"][ind[0]] - 0.05, df2[\"Volume (ml)\"].iloc[-1]]\n",
    "fit_line = polynomial(volex)\n",
    "\n",
    "# calculate the end point of the titration (i.e., the x value when y =0)\n",
    "endpoint = round(-1 * coefficients[1] / coefficients[0], 3)\n",
    "\n",
    "# calculate the alkalinity using the end point vol, sample volume, and acid concentration\n",
    "alk = Nt * endpoint / Vs\n",
    "print(\"[alk] = %.3e M\" % alk)\n",
    "print(\"Approximate ionic strength = %.4f M\" % I)\n",
    "print(\"Approximate activity coefficient of H+ = %.2f\" % act_coef)\n",
    "# plot the extracted portion of the Gran function, the linear regression, and end point\n",
    "plt.figure()\n",
    "plt.plot(vol, F1ex, marker=\"x\", linestyle=\"none\", label=\"Gran Function\")\n",
    "plt.plot(volex, fit_line, label=\"linear regression\")\n",
    "plt.scatter(endpoint, 0, marker=\"o\", label=\"end point\")\n",
    "plt.xlabel(\"Volume (ml)\")\n",
    "plt.ylabel(\"F1\")\n",
    "plt.legend()\n",
    "\n",
    "# annotate the plot to show the value of the end point\n",
    "plt.annotate(\n",
    "    str(endpoint),\n",
    "    xy=(endpoint, 0),\n",
    "    xycoords=\"data\",\n",
    "    xytext=(0.26, 0.5),\n",
    "    textcoords=\"axes fraction\",\n",
    "    arrowprops=dict(facecolor=\"black\", shrink=0.05),\n",
    "    horizontalalignment=\"center\",\n",
    "    verticalalignment=\"center\",\n",
    ")\n",
    "\n",
    "# Save and download the plot\n",
    "plt.savefig(\"alk_analysis_r2.png\", bbox_inches=\"tight\")\n",
    "plt.savefig(\"alk_analysis_r2.pdf\", bbox_inches=\"tight\")\n"
   ]
  },
  {
   "cell_type": "markdown",
   "metadata": {},
   "source": [
    "# Raw titration figure for report"
   ]
  },
  {
   "cell_type": "code",
   "execution_count": null,
   "metadata": {},
   "outputs": [],
   "source": [
    "plt.plot(df1[\"pH\"], df1[\"Volume (ml)\"], label=\"Mercer Slough\")\n",
    "plt.plot(df2[\"pH\"], df2[\"Volume (ml)\"], label=\"sample b\", linestyle=\"--\")\n",
    "plt.xlabel(\"pH\")\n",
    "plt.ylabel(\"Volume (ml)\")\n",
    "plt.legend()\n",
    "plt.savefig(\"raw_titration.png\", bbox_inches=\"tight\")\n",
    "plt.savefig(\"raw_titration.pdf\", bbox_inches=\"tight\")\n"
   ]
  }
 ],
 "metadata": {
  "colab": {
   "name": "gran_analysis.ipynb",
   "provenance": []
  },
  "kernelspec": {
   "display_name": "Python 3",
   "language": "python",
   "name": "python3"
  },
  "language_info": {
   "codemirror_mode": {
    "name": "ipython",
    "version": 3
   },
   "file_extension": ".py",
   "mimetype": "text/x-python",
   "name": "python",
   "nbconvert_exporter": "python",
   "pygments_lexer": "ipython3",
   "version": "3.10.12"
  }
 },
 "nbformat": 4,
 "nbformat_minor": 4
}

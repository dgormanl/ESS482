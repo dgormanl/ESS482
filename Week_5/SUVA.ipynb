{
 "cells": [
  {
   "cell_type": "markdown",
   "metadata": {},
   "source": [
    "# SUVA\n",
    "SUVA analysis is a method used to assess the organic matter content and the potential for the formation of disinfection by-products (DBPs) in water samples. SUVA stands for Specific Ultraviolet Absorbance, which is a measure of the absorbance of ultraviolet (UV) light by dissolved organic matter (DOM) in water.\n",
    "\n",
    "The SUVA value is calculated by dividing the UV absorbance at a specific wavelength (usually 254 nm) by the concentration of dissolved organic carbon (DOC) in the water sample. It provides an indication of the aromaticity and molecular weight of the organic matter present in the water.\n",
    "\n",
    "A higher SUVA value indicates a higher concentration of aromatic and higher molecular weight organic compounds, which are more likely to react with disinfectants (such as chlorine) to form DBPs. DBPs are potentially harmful compounds that can be formed during water treatment processes and have been associated with adverse health effects.\n",
    "\n",
    "By analyzing the SUVA value of water samples, water treatment professionals can assess the potential for DBP formation and make informed decisions regarding the treatment processes and disinfection strategies to minimize DBP formation while ensuring water safety and quality.\n",
    "\n",
    "This information was provided by GitHub Copilot.\n"
   ]
  },
  {
   "cell_type": "markdown",
   "metadata": {},
   "source": [
    "#### Data Entry"
   ]
  },
  {
   "cell_type": "code",
   "execution_count": 1,
   "metadata": {},
   "outputs": [
    {
     "name": "stdout",
     "output_type": "stream",
     "text": [
      "SUVA = 3.00\n"
     ]
    }
   ],
   "source": [
    "# Replace the value below with your absorbance value at 254 nm\n",
    "abs = 0.3000\n",
    "# Replace the value below with your dissolve organic carbon measurment in mg/L\n",
    "doc = 10.0\n",
    "\n",
    "# Calculate SUVA and print result\n",
    "SUVA = (abs / doc) * 100\n",
    "print(\"SUVA = %.2f\" % SUVA)"
   ]
  }
 ],
 "metadata": {
  "kernelspec": {
   "display_name": "Python 3",
   "language": "python",
   "name": "python3"
  },
  "language_info": {
   "codemirror_mode": {
    "name": "ipython",
    "version": 3
   },
   "file_extension": ".py",
   "mimetype": "text/x-python",
   "name": "python",
   "nbconvert_exporter": "python",
   "pygments_lexer": "ipython3",
   "version": "3.10.12"
  }
 },
 "nbformat": 4,
 "nbformat_minor": 2
}

{
 "cells": [
  {
   "cell_type": "markdown",
   "metadata": {
    "colab_type": "text",
    "id": "wIER8vPjwtaA"
   },
   "source": [
    "# Comparing Modeled Bacterial Zn Adsorption with Experimental Data\n",
    "This notebook will plot the output of your analyzed bacterial adsorption data along with the output of your bacterial adsorption modeling from Equilibrium Diagrams. You will need the output from the `Zinc_analysis` notebook (already provided for you) and the output from `Equilbrium Diagrams`. "
   ]
  },
  {
   "cell_type": "code",
   "execution_count": 1,
   "metadata": {},
   "outputs": [],
   "source": [
    "import pandas as pd\n",
    "import matplotlib.pyplot as plt\n",
    "import seaborn as sns\n",
    "\n",
    "sns.set()\n"
   ]
  },
  {
   "cell_type": "markdown",
   "metadata": {
    "colab_type": "text",
    "id": "aADH0DpFz8MX"
   },
   "source": [
    "# Load the analyzed data \n",
    "The data from the zinc-only and zinc-citrate experiments was compiled and will be loaded into two variable `Zn_data` and `Zncitrate_data`."
   ]
  },
  {
   "cell_type": "code",
   "execution_count": 2,
   "metadata": {
    "colab": {},
    "colab_type": "code",
    "id": "bzk00g0Zz_QR",
    "tags": []
   },
   "outputs": [
    {
     "data": {
      "text/html": [
       "<div><div id=463d1eea-0190-4dd5-aeb4-882cf4e0708c style=\"display:none; background-color:#9D6CFF; color:white; width:200px; height:30px; padding-left:5px; border-radius:4px; flex-direction:row; justify-content:space-around; align-items:center;\" onmouseover=\"this.style.backgroundColor='#BA9BF8'\" onmouseout=\"this.style.backgroundColor='#9D6CFF'\" onclick=\"window.commands?.execute('create-mitosheet-from-dataframe-output');\">See Full Dataframe in Mito</div> <script> if (window.commands.hasCommand('create-mitosheet-from-dataframe-output')) document.getElementById('463d1eea-0190-4dd5-aeb4-882cf4e0708c').style.display = 'flex' </script> <table border=\"1\" class=\"dataframe\">\n",
       "  <thead>\n",
       "    <tr style=\"text-align: right;\">\n",
       "      <th></th>\n",
       "      <th>sample_name</th>\n",
       "      <th>pH</th>\n",
       "      <th>sampabs</th>\n",
       "      <th>tot_zn_ppm</th>\n",
       "      <th>sampconc</th>\n",
       "      <th>Znads</th>\n",
       "      <th>Znadsper</th>\n",
       "    </tr>\n",
       "  </thead>\n",
       "  <tbody>\n",
       "    <tr>\n",
       "      <th>0</th>\n",
       "      <td>Z1</td>\n",
       "      <td>4.862</td>\n",
       "      <td>0.1356</td>\n",
       "      <td>3.0</td>\n",
       "      <td>2.181449</td>\n",
       "      <td>0.818551</td>\n",
       "      <td>27.285027</td>\n",
       "    </tr>\n",
       "    <tr>\n",
       "      <th>1</th>\n",
       "      <td>Z2</td>\n",
       "      <td>6.248</td>\n",
       "      <td>0.0525</td>\n",
       "      <td>NaN</td>\n",
       "      <td>0.907573</td>\n",
       "      <td>2.092427</td>\n",
       "      <td>69.747575</td>\n",
       "    </tr>\n",
       "    <tr>\n",
       "      <th>2</th>\n",
       "      <td>Z4</td>\n",
       "      <td>5.552</td>\n",
       "      <td>0.0202</td>\n",
       "      <td>NaN</td>\n",
       "      <td>0.412432</td>\n",
       "      <td>2.587568</td>\n",
       "      <td>86.252271</td>\n",
       "    </tr>\n",
       "    <tr>\n",
       "      <th>3</th>\n",
       "      <td>Z5</td>\n",
       "      <td>8.930</td>\n",
       "      <td>0.0761</td>\n",
       "      <td>NaN</td>\n",
       "      <td>1.269348</td>\n",
       "      <td>1.730652</td>\n",
       "      <td>57.688416</td>\n",
       "    </tr>\n",
       "    <tr>\n",
       "      <th>4</th>\n",
       "      <td>Z6</td>\n",
       "      <td>7.960</td>\n",
       "      <td>0.0585</td>\n",
       "      <td>NaN</td>\n",
       "      <td>0.999549</td>\n",
       "      <td>2.000451</td>\n",
       "      <td>66.681687</td>\n",
       "    </tr>\n",
       "    <tr>\n",
       "      <th>...</th>\n",
       "      <td>...</td>\n",
       "      <td>...</td>\n",
       "      <td>...</td>\n",
       "      <td>...</td>\n",
       "      <td>...</td>\n",
       "      <td>...</td>\n",
       "      <td>...</td>\n",
       "    </tr>\n",
       "    <tr>\n",
       "      <th>27</th>\n",
       "      <td>P13</td>\n",
       "      <td>3.620</td>\n",
       "      <td>0.1643</td>\n",
       "      <td>NaN</td>\n",
       "      <td>2.647046</td>\n",
       "      <td>0.352954</td>\n",
       "      <td>11.765149</td>\n",
       "    </tr>\n",
       "    <tr>\n",
       "      <th>28</th>\n",
       "      <td>P14</td>\n",
       "      <td>3.430</td>\n",
       "      <td>0.1563</td>\n",
       "      <td>NaN</td>\n",
       "      <td>2.524863</td>\n",
       "      <td>0.475137</td>\n",
       "      <td>15.837903</td>\n",
       "    </tr>\n",
       "    <tr>\n",
       "      <th>29</th>\n",
       "      <td>P15</td>\n",
       "      <td>4.560</td>\n",
       "      <td>0.1473</td>\n",
       "      <td>NaN</td>\n",
       "      <td>2.387407</td>\n",
       "      <td>0.612593</td>\n",
       "      <td>20.419751</td>\n",
       "    </tr>\n",
       "    <tr>\n",
       "      <th>30</th>\n",
       "      <td>P16</td>\n",
       "      <td>5.060</td>\n",
       "      <td>0.1509</td>\n",
       "      <td>NaN</td>\n",
       "      <td>2.442390</td>\n",
       "      <td>0.557610</td>\n",
       "      <td>18.587011</td>\n",
       "    </tr>\n",
       "    <tr>\n",
       "      <th>31</th>\n",
       "      <td>P17</td>\n",
       "      <td>3.630</td>\n",
       "      <td>0.1600</td>\n",
       "      <td>NaN</td>\n",
       "      <td>2.581372</td>\n",
       "      <td>0.418628</td>\n",
       "      <td>13.954254</td>\n",
       "    </tr>\n",
       "  </tbody>\n",
       "</table></div>"
      ],
      "text/plain": [
       "   sample_name     pH  sampabs  tot_zn_ppm  sampconc     Znads   Znadsper\n",
       "0           Z1  4.862   0.1356         3.0  2.181449  0.818551  27.285027\n",
       "1           Z2  6.248   0.0525         NaN  0.907573  2.092427  69.747575\n",
       "2           Z4  5.552   0.0202         NaN  0.412432  2.587568  86.252271\n",
       "3           Z5  8.930   0.0761         NaN  1.269348  1.730652  57.688416\n",
       "4           Z6  7.960   0.0585         NaN  0.999549  2.000451  66.681687\n",
       "5           Z7  5.088   0.1362         NaN  2.190647  0.809353  26.978439\n",
       "6           Z8  6.066   0.0525         NaN  0.907573  2.092427  69.747575\n",
       "7           Z9  7.550   0.0639         NaN  1.082328  1.917672  63.922388\n",
       "8          A10  5.472   0.1195         NaN  1.962823  1.037177  34.572569\n",
       "9          A11  5.877   0.1163         NaN  1.913950  1.086050  36.201670\n",
       "10         A12  7.050   0.0805         NaN  1.367183  1.632817  54.427242\n",
       "11         A13  5.842   0.1051         NaN  1.742894  1.257106  41.903525\n",
       "12         A14  4.251   0.1547         NaN  2.500426  0.499574  16.652454\n",
       "13         A15  6.373   0.0754         NaN  1.289291  1.710709  57.023622\n",
       "14         A16  7.000   0.0590         NaN  1.038817  1.961183  65.372767\n",
       "15         A17  6.075   0.0600         NaN  1.054090  1.945910  64.863673\n",
       "16         A18  6.558   0.0507         NaN  0.912053  2.087947  69.598248\n",
       "17          P1  7.790   0.0479         NaN  0.869289  2.130711  71.023712\n",
       "18          P2  7.220   0.0656         NaN  1.139618  1.860382  62.012745\n",
       "19          P3  9.340   0.0301         NaN  0.597432  2.402568  80.085589\n",
       "20          P4  7.070   0.0649         NaN  1.128927  1.871073  62.369111\n",
       "21          P5  9.333   0.0119         NaN  0.319467  2.680533  89.351103\n",
       "22          P6  8.100   0.0160         NaN  0.382086  2.617914  87.263817\n",
       "23          P7  7.030   0.0567         NaN  1.003689  1.996311  66.543683\n",
       "24          P9  7.380   0.0159         NaN  0.380558  2.619442  87.314726\n",
       "25         P11  4.150   0.1722         NaN  2.767701  0.232299   7.743305\n",
       "26         P12  3.010   0.1603         NaN  2.585954  0.414046  13.801526\n",
       "27         P13  3.620   0.1643         NaN  2.647046  0.352954  11.765149\n",
       "28         P14  3.430   0.1563         NaN  2.524863  0.475137  15.837903\n",
       "29         P15  4.560   0.1473         NaN  2.387407  0.612593  20.419751\n",
       "30         P16  5.060   0.1509         NaN  2.442390  0.557610  18.587011\n",
       "31         P17  3.630   0.1600         NaN  2.581372  0.418628  13.954254"
      ]
     },
     "execution_count": 2,
     "metadata": {},
     "output_type": "execute_result"
    }
   ],
   "source": [
    "# put the uploaded csv file into a pandas dataframe\n",
    "# the file name needs to match exactly to the uploaded file\n",
    "Zn_data = pd.read_csv(\"df_zn_only.csv\")\n",
    "Zncitrate_data = pd.read_csv(\"df_citrate.csv\")\n",
    "# let's see what the data look like in the dataframe\n",
    "Zn_data\n"
   ]
  },
  {
   "cell_type": "markdown",
   "metadata": {},
   "source": [
    "# Upload Equilibrium Diagrams model output\n",
    "### Before you upload the model output, make sure you have edited the ouput file to remove the context information at the beginning of the file. It is critical that you have labeled the Zn-bacteria surface complexes as `L1Zn+`, `L2Zn+`, and `L3Zn+`. If they are labeled something else then edit the model output so they are labeled correctly and rerun the cell above"
   ]
  },
  {
   "cell_type": "code",
   "execution_count": 21,
   "metadata": {
    "colab": {},
    "colab_type": "code",
    "id": "_gPp8EAN_8BE",
    "tags": []
   },
   "outputs": [
    {
     "name": "stdout",
     "output_type": "stream",
     "text": [
      "Continue the notebook\n"
     ]
    }
   ],
   "source": [
    "# replace the file names with your model outputs\n",
    "Zn_model_file = \"zn_model.csv\"\n",
    "Zncitrate_model_file = \"citrate_model.csv\"\n",
    "# load the modeling output files and rename the pH column\n",
    "Zn_model = pd.read_csv(Zn_model_file, sep=\";\")\n",
    "Zn_model.rename(columns={\"H+\": \"pH\"}, inplace=True)\n",
    "Zncitrate_model = pd.read_csv(Zncitrate_model_file, sep=\";\")\n",
    "Zncitrate_model.rename(columns={\"H+\": \"pH\"}, inplace=True)\n",
    "# check to make sure the bacterial surface complexes are labeled correctly\n",
    "surface_complexes = [\"L1Zn+\", \"L2Zn+\", \"L3Zn+\"]\n",
    "if {\"L1Zn+\", \"L2Zn+\", \"L3Zn+\"}.issubset(Zncitrate_model.columns):\n",
    "    print(\"Continue the notebook\")\n",
    "else:\n",
    "    print(\n",
    "        \"You need to relable the zinc-bacterial surface complexes in your model output to L1Zn+, L2Zn+, and L3Zn+\"\n",
    "    )\n"
   ]
  },
  {
   "cell_type": "markdown",
   "metadata": {
    "colab_type": "text",
    "id": "TrxO5_wo6UII",
    "tags": []
   },
   "source": [
    "Now that we can access the output from `Equilibrium Diagrams`, we can add together the three Zn-surface complexes to determine the total predicted Zn adsorption as a function of pH."
   ]
  },
  {
   "cell_type": "code",
   "execution_count": 22,
   "metadata": {
    "colab": {},
    "colab_type": "code",
    "id": "tpmW_dCGfX1L",
    "tags": []
   },
   "outputs": [],
   "source": [
    "# add the fraction of Zn adsorbed onto the sites 1, 2, and 3 to determine\n",
    "# total predicted Zn adsorbed\n",
    "Znmodads = Zn_model[\"L1Zn+\"] + Zn_model[\"L2Zn+\"] + Zn_model[\"L3Zn+\"]\n",
    "Zncitratemodads = (\n",
    "    Zncitrate_model[\"L1Zn+\"] + Zncitrate_model[\"L2Zn+\"] + Zncitrate_model[\"L3Zn+\"]\n",
    ")\n"
   ]
  },
  {
   "cell_type": "markdown",
   "metadata": {
    "colab_type": "text",
    "id": "cB8L5dCD62Vd"
   },
   "source": [
    "To compare total predicted Zn adsorption to the experimental data we need to plot both on a graph. In addition to that, we can also plot the contribution of Zn adsorbed to each surface site to illustrate the pH range and extent of adsorption of surface site."
   ]
  },
  {
   "cell_type": "code",
   "execution_count": 23,
   "metadata": {
    "colab": {},
    "colab_type": "code",
    "id": "urrz9K0kf12M"
   },
   "outputs": [
    {
     "data": {
      "image/png": "[encoded data removed]",
      "text/plain": [
       "<Figure size 432x288 with 1 Axes>"
      ]
     },
     "metadata": {},
     "output_type": "display_data"
    },
    {
     "data": {
      "text/plain": [
       "<Figure size 432x288 with 0 Axes>"
      ]
     },
     "metadata": {},
     "output_type": "display_data"
    },
    {
     "data": {
      "image/png": "[encoded data removed]",
      "text/plain": [
       "<Figure size 432x288 with 1 Axes>"
      ]
     },
     "metadata": {},
     "output_type": "display_data"
    }
   ],
   "source": [
    "plt.figure()\n",
    "plt.plot(Zn_model[\"pH\"], Znmodads * 100, label=\"Model Zn ads\")\n",
    "plt.plot(Zn_model[\"pH\"], Zn_model[\"L1Zn+\"] * 100, label=\"L1Zn+\")\n",
    "plt.plot(Zn_model[\"pH\"], Zn_model[\"L2Zn+\"] * 100, label=\"L2Zn+\")\n",
    "plt.plot(Zn_model[\"pH\"], Zn_model[\"L3Zn+\"] * 100, label=\"L3Zn+\")\n",
    "plt.scatter(Zn_data[\"pH\"], Zn_data[\"Znadsper\"], label=\"data\")\n",
    "plt.xlabel(\"pH\")\n",
    "plt.ylabel(\"% Zn Adsorbed\")\n",
    "plt.ylim([0, 100])\n",
    "plt.legend()\n",
    "plt.show()\n",
    "plt.savefig(\"ads_mod_plot.pdf\")\n",
    "\n",
    "plt.figure()\n",
    "plt.plot(Zncitrate_model[\"pH\"], Zncitratemodads * 100, label=\"Model Zn ads\")\n",
    "plt.plot(Zncitrate_model[\"pH\"], Zncitrate_model[\"L1Zn+\"] * 100, label=\"L1Zn+\")\n",
    "plt.plot(Zncitrate_model[\"pH\"], Zncitrate_model[\"L2Zn+\"] * 100, label=\"L2Zn+\")\n",
    "plt.plot(Zncitrate_model[\"pH\"], Zncitrate_model[\"L3Zn+\"] * 100, label=\"L3Zn+\")\n",
    "plt.scatter(Zncitrate_data[\"pH\"], Zncitrate_data[\"Znadsper\"], label=\"data\")\n",
    "plt.xlabel(\"pH\")\n",
    "plt.ylabel(\"% Zn Adsorbed\")\n",
    "plt.legend()\n",
    "plt.ylim([0, 100])\n",
    "# Save and download the plot\n",
    "plt.savefig(\"ads_citrate_plot.pdf\")\n"
   ]
  },
  {
   "cell_type": "code",
   "execution_count": null,
   "metadata": {},
   "outputs": [],
   "source": []
  }
 ],
 "metadata": {
  "colab": {
   "collapsed_sections": [],
   "name": "bacteria_modeling_java.ipynb",
   "provenance": []
  },
  "kernelspec": {
   "display_name": "Python 3 (ipykernel)",
   "language": "python",
   "name": "python3"
  },
  "language_info": {
   "codemirror_mode": {
    "name": "ipython",
    "version": 3
   },
   "file_extension": ".py",
   "mimetype": "text/x-python",
   "name": "python",
   "nbconvert_exporter": "python",
   "pygments_lexer": "ipython3",
   "version": "3.9.7"
  }
 },
 "nbformat": 4,
 "nbformat_minor": 4
}

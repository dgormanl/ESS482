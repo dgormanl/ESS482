{
 "cells": [
  {
   "cell_type": "markdown",
   "id": "a0b63199-fed6-4ba4-b52e-d15417f53a16",
   "metadata": {},
   "source": [
    "# Pipette Analysis\n",
    "To understand how well our pipettes work and our ability to use them we need to have an understanding of their \"accuracy\" and \"precision\" in quantitative terms. We want to understand  the “systematic error” and “random error” when we use the pipettes."
   ]
  },
  {
   "cell_type": "markdown",
   "id": "d55bf0be-c3d4-4c48-86c5-335669449c72",
   "metadata": {},
   "source": [
    "# Evaluating accuracy \n",
    "The specified accuracy for pipettes is the limit to the systematic error when a pipette is used correctly. The systematic error is the difference between the mean volume of actual measurements and the true value of the volume set on the\n",
    "pipette.\n",
    "\n",
    "The systematic error (E) can be estimated as:\n",
    "\n",
    "$E = \\bar{V} - V_0$\n",
    "\n",
    "$E$ systematic error\n",
    "\n",
    "$V_0$ nominal volume or the true value you are trying to achieve\n",
    "\n",
    "$\\bar{V}$ mean volume\n",
    "\n",
    "The systematic error (E) of the pipette can be expressed as a percent.\n",
    "\n",
    "$E\\% = \\frac{\\bar{V}-V_0}{\\bar{V}}\\times 100$\n"
   ]
  },
  {
   "cell_type": "markdown",
   "id": "75c9b981-a0e5-40cc-b060-200f2e2568cf",
   "metadata": {},
   "source": [
    "# What is the systematic error (E) of the pipette of the pipette you used?\n",
    "Replace the sample data in the cell below with your own data."
   ]
  },
  {
   "cell_type": "code",
   "execution_count": 1,
   "id": "6c2c3bb9-8992-442b-98bd-f72bfecbd1da",
   "metadata": {},
   "outputs": [],
   "source": [
    "# replace the sample data with your measurements from the balance\n",
    "data = [0.295, 0.297, 0.296, 0.297, 0.311, 0.300, 0.301, 0.296, 0.295, 0.299]\n",
    "# what volume were you trying to pipette in milliliters?\n",
    "V0 = 0.300"
   ]
  },
  {
   "cell_type": "markdown",
   "id": "fa158b2f-e479-425c-8f56-9649ce7d6e5e",
   "metadata": {},
   "source": [
    "# Calculate systematic error\n",
    "Run the cell below to determine the inaccuracy of your pipette."
   ]
  },
  {
   "cell_type": "code",
   "execution_count": null,
   "id": "c96ceac5-65de-49c6-aed3-f9d33346894f",
   "metadata": {},
   "outputs": [],
   "source": [
    "Vbar = sum(data) / len(data)\n",
    "E = Vbar - V0\n",
    "Epercent = (Vbar - V0) / V0 * 100\n",
    "print(\n",
    "    \"The percent inaccuracy of your pipette is %0.1f%% for a trial of %i measurements\"\n",
    "    % (Epercent, len(data))\n",
    ")"
   ]
  },
  {
   "cell_type": "markdown",
   "id": "1ed25993-bf2d-40f9-be0f-2925a7fedb46",
   "metadata": {},
   "source": [
    "# Evaluating precision\n",
    "The random error is the distribution of the measured values around a mean value. For pipettes, precision refers repeatability of delivering an aliquot of liquid. The random error is quantified by the standard deviation of measurements for the test conditions. The standard deviation (SD) can be estimated as follows :\n",
    "\n",
    "$SD = \\sqrt{\\frac{1}{N-1} \\sum_{i=1}^N (V_i - \\bar{V})^2}$\n",
    "\n",
    "$V_i$ induvidually measured aliquots\n",
    "\n",
    "$N$ number of measurements\n",
    "\n",
    "Expressing the precision of a pipette as a percentage of the mean volume is known as relative standard\n",
    "deviation (RSD) or coefficient of variation (CV).\n",
    "\n",
    "$RSD = \\frac{SD}{\\bar{V}}\\times 100$"
   ]
  },
  {
   "cell_type": "markdown",
   "id": "ab8d784d-50b4-4bb2-90a3-99df08ac9507",
   "metadata": {},
   "source": [
    "# What is the precision of your pipette?\n",
    "Run the cell below to find out."
   ]
  },
  {
   "cell_type": "code",
   "execution_count": null,
   "id": "c99f0a80-623c-4020-b5f6-8b9e1e266d95",
   "metadata": {},
   "outputs": [],
   "source": [
    "import numpy as np\n",
    "\n",
    "SD = np.std(data)\n",
    "RSD = SD / Vbar * 100\n",
    "print(\"The RSD of your pipette is %.1f%%\" % RSD)"
   ]
  }
 ],
 "metadata": {
  "kernelspec": {
   "display_name": "Python 3",
   "language": "python",
   "name": "python3"
  },
  "language_info": {
   "codemirror_mode": {
    "name": "ipython",
    "version": 3
   },
   "file_extension": ".py",
   "mimetype": "text/x-python",
   "name": "python",
   "nbconvert_exporter": "python",
   "pygments_lexer": "ipython3",
   "version": "3.10.12"
  }
 },
 "nbformat": 4,
 "nbformat_minor": 5
}

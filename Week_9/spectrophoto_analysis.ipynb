{
 "cells": [
  {
   "cell_type": "markdown",
   "metadata": {
    "colab_type": "text",
    "id": "Jc7WYWgXqsIQ"
   },
   "source": [
    "# Spectrophotometric Analysis\n",
    "This notebooks is written to analyze data from a colorimetric techniqes. The data must be in the proper format to read by this script."
   ]
  },
  {
   "cell_type": "code",
   "execution_count": null,
   "metadata": {},
   "outputs": [],
   "source": [
    "import numpy as np\n",
    "import pandas as pd\n",
    "from IPython import display\n",
    "from scipy.optimize import curve_fit"
   ]
  },
  {
   "cell_type": "markdown",
   "metadata": {},
   "source": [
    "# What experiment does the data belong to and how many samples do you have?\n"
   ]
  },
  {
   "cell_type": "code",
   "execution_count": null,
   "metadata": {},
   "outputs": [],
   "source": [
    "# Indicate the name of the experiment (e.g. \"HFO\" or \"Bacteria1\")\n",
    "exp_name = \"HFO\"\n",
    "\n",
    "# Indicate how many samples you have\n",
    "n_samples = 11\n",
    "\n",
    "# creation of a dataframe to hold your data plus one additional line for experimental parameters\n",
    "df = pd.DataFrame(\n",
    "    index=np.arange(n_samples + 1),\n",
    "    columns=[\n",
    "        \"std\",\n",
    "        \"abs\",\n",
    "        \"sample_name\",\n",
    "        \"pH\",\n",
    "        \"sampabs\",\n",
    "        \"tot_zn_ppm\",\n",
    "    ],\n",
    ")"
   ]
  },
  {
   "cell_type": "markdown",
   "metadata": {
    "colab": {
     "base_uri": "https://localhost:8080/",
     "height": 394
    },
    "colab_type": "code",
    "id": "Q5UfqLBfrLWo",
    "outputId": "0b85b3fc-ac4d-4ac4-d7e9-d8f38c4bc87d"
   },
   "source": [
    "# Data input\n",
    "Replace the data for `standards`, `stdabs`, `sample_name`, `pH`, `sampleabs`, `tot_zn_ppm` with your own data. Other parameters are already filled in for you."
   ]
  },
  {
   "cell_type": "code",
   "execution_count": null,
   "metadata": {},
   "outputs": [],
   "source": [
    "# Zinc concentrations of the standards (already correct)\n",
    "standards = [0.46, 1.03, 3.02, 6.04]\n",
    "# Replace the data with the absorbance of your standards, lowest concentration to highest\n",
    "stdabs = [0.023, 0.052, 0.182, 0.292]\n",
    "# Replace the data with your sample names, be sure the names are within quotes\n",
    "sample_name = [\"1\", \"2\", \"3\", \"4\", \"5\", \"6\", \"7\", \"8\", \"9\", \"10\", \"11\", \"12\"]\n",
    "# Replace the data with your sample pH values\n",
    "pH = [3.25, 4.74, 5.61, 4.96, 5.57, 5.73, 6.19, 6.46, 7.16, 7.66, 7.8, 4.73]\n",
    "# Replace the data with the absorbance values for your samples\n",
    "sampabs = [\n",
    "    0.224,\n",
    "    0.383,\n",
    "    0.171,\n",
    "    0.164,\n",
    "    0.115,\n",
    "    0.105,\n",
    "    0.101,\n",
    "    0.083,\n",
    "    -0.007,\n",
    "    0.054,\n",
    "    0.033,\n",
    "    0.043,\n",
    "]\n",
    "# Replace the data with the total zinc concentration of your experiment\n",
    "tot_zn_ppm = 5"
   ]
  },
  {
   "cell_type": "markdown",
   "metadata": {},
   "source": [
    "# Check input data\n",
    "Run the next cell and make sure it looks like the example data above"
   ]
  },
  {
   "cell_type": "code",
   "execution_count": null,
   "metadata": {},
   "outputs": [],
   "source": [
    "df.loc[0:3, \"std\"] = standards\n",
    "df.loc[0:3, \"abs\"] = stdabs\n",
    "df.loc[0 : len(sample_name) - 1, \"sample_name\"] = sample_name\n",
    "df.loc[0 : len(sample_name) - 1, \"pH\"] = pH\n",
    "df.loc[0 : len(sample_name) - 1, \"sampabs\"] = sampabs\n",
    "df.loc[0, \"tot_zn_ppm\"] = tot_zn_ppm\n",
    "df"
   ]
  },
  {
   "cell_type": "markdown",
   "metadata": {
    "colab_type": "text",
    "id": "PwpuRRnOraTv"
   },
   "source": [
    "# Calibration curve\n",
    "Now that the data is uploaded we need to perform a linear regression to create the calibration curve. We will use the Beer-Lambert law (or Beer's law), where $A$ is absorbance, $\\epsilon$ is the molar absorptivity, $l$ is path length, and $C$ is concentration, to create our calibration curve.  \n",
    "\n",
    "$$A=\\epsilon{l}C$$\n",
    "\n",
    "We can see that Beer's law is the equation for a straight line with an intercept of zero. Theoretically this makes sense in that if there are no absorbing molecules present then the absorbance should be zero. Realistically this doesn't happen. For example, analytical instruments don't behave ideally (i.e., there is always some background noise in signals) and blank substractions aren't perfect. So our best fit line will include an intercept. A calibration shouldn't go through the origin unless it demonstrated that the intercept is not statistically different than zero by calculating a t-ratio. For our spectrophotometric analysis the intercept will be statistically different than zero so we must include it.\n",
    "\n",
    "There are many different ways to fit linear models in Python. I've chosen to use the SciPy module just demonstrate a different way of fitting than is found in the ferrozine analysis script."
   ]
  },
  {
   "cell_type": "code",
   "execution_count": null,
   "metadata": {
    "colab": {
     "base_uri": "https://localhost:8080/",
     "height": 243
    },
    "colab_type": "code",
    "id": "oT5Oy6PhBGOE",
    "outputId": "51ca6a57-090a-433d-ccd1-e7da981546fc"
   },
   "outputs": [],
   "source": [
    "# Use SciPy to determine our calibration curve\n",
    "# define a function for the equation of a straight line\n",
    "def func(x, p1, p2):\n",
    "    return x * p1 + p2\n",
    "\n",
    "\n",
    "# rename the calibration data x and y and select range with data leaving out the nans\n",
    "x = df[\"std\"][0:4]\n",
    "y = df[\"abs\"][0:4]\n",
    "# run the regression and save the output parameter (slope and intercept) in popt and save the covariance matrix in pcov\n",
    "popt, pcov = curve_fit(func, x, y, p0=[0.003, 0])\n",
    "# calculate the coefficient of determination also known as r^2\n",
    "residuals = y - func(x, popt[0], popt[1])\n",
    "ss_res = np.sum(residuals**2)\n",
    "ss_tot = np.sum((y - np.mean(y)) ** 2)\n",
    "r_squared = 1 - (ss_res / ss_tot)\n",
    "\n",
    "# intercept\n",
    "b = popt[1]\n",
    "# slope\n",
    "m = popt[0]\n",
    "# print fit parameters and error\n",
    "print(\"Calibration equation\\t r-squared\")\n",
    "print(\"y = %.4f*x + %.4f\\t %f\" % (m, b, r_squared))\n",
    "print(\"\\n\")\n",
    "# inverse prediction of concentration from absorbance measurements\n",
    "df[\"sampconc\"] = (df[\"sampabs\"] - b) / m\n",
    "print(df)"
   ]
  },
  {
   "cell_type": "markdown",
   "metadata": {},
   "source": [
    "# Save the data to a csv file.\n"
   ]
  },
  {
   "cell_type": "code",
   "execution_count": null,
   "metadata": {},
   "outputs": [],
   "source": [
    "# To save the dataframe to a CSV file with the date as the filename it is necessary \n",
    "# to import the datetime module\n",
    "import datetime\n",
    "\n",
    "# Get the current date and time\n",
    "now = datetime.datetime.now()\n",
    "\n",
    "# Format the date as a string\n",
    "date_string = now.strftime(\"%Y-%m-%d\")\n",
    "\n",
    "# Save the dataframe to a CSV file with the date as the filename\n",
    "filename = f\"{exp_name+'_'+date_string}.csv\"\n",
    "df.to_csv(filename, index=False)\n",
    "print('The data is saved in file: %s' % filename)"
   ]
  },
  {
   "cell_type": "markdown",
   "metadata": {},
   "source": [
    "# Copy data to class spreadsheet\n",
    "### Open the saved data file by double clicking the file name in the directory to the right. Copy the `pH` and `sampconc` columns to the spreadsheet: [data spreadsheet](https://uwnetid-my.sharepoint.com/:x:/g/personal/dgormanl_uw_edu/Ea6sn5NjzvFJnkofm11_F2UBwFd0ZspGA36oza-ttW7JFA?e=cekeZZ)"
   ]
  },
  {
   "cell_type": "code",
   "execution_count": null,
   "metadata": {},
   "outputs": [],
   "source": []
  }
 ],
 "metadata": {
  "colab": {
   "name": "spectrophoto_analysis.ipynb",
   "provenance": []
  },
  "kernelspec": {
   "display_name": "Python 3 (ipykernel)",
   "language": "python",
   "name": "python3"
  },
  "language_info": {
   "codemirror_mode": {
    "name": "ipython",
    "version": 3
   },
   "file_extension": ".py",
   "mimetype": "text/x-python",
   "name": "python",
   "nbconvert_exporter": "python",
   "pygments_lexer": "ipython3",
   "version": "3.10.13"
  }
 },
 "nbformat": 4,
 "nbformat_minor": 4
}

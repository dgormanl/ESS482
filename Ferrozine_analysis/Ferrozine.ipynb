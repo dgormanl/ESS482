{
 "cells": [
  {
   "cell_type": "markdown",
   "metadata": {
    "colab_type": "text",
    "id": "Jc7WYWgXqsIQ"
   },
   "source": [
    "# Ferrozine Analysis\n",
    "This notebooks is written to analyze data from a ferrozine analysis. The input data will need to be properly formatted to be read by this script."
   ]
  },
  {
   "cell_type": "code",
   "execution_count": 21,
   "metadata": {
    "colab": {},
    "colab_type": "code",
    "id": "HC3Vu8MPqjEQ"
   },
   "outputs": [
    {
     "name": "stdout",
     "output_type": "stream",
     "text": [
      "Sample data to check for proper format\n"
     ]
    },
    {
     "data": {
      "image/png": "[encoded data removed]",
      "text/plain": [
       "<IPython.core.display.Image object>"
      ]
     },
     "execution_count": 21,
     "metadata": {},
     "output_type": "execute_result"
    }
   ],
   "source": [
    "# code to display a sample of properly formatted input\n",
    "from IPython import display\n",
    "from base64 import b64decode\n",
    "print('Sample data to check for proper format')\n",
    "base64_data = \"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\"\n",
    "display.Image(b64decode(base64_data))"
   ]
  },
  {
   "cell_type": "markdown",
   "metadata": {},
   "source": [
    "# Input data and check\n",
    "Replace the values below with your own data. Make sure the length of the data lists are equal; use `np.nan` to fill out the list so it matched the longest column. Check to make sure the headers and format look similar to the example data above."
   ]
  },
  {
   "cell_type": "code",
   "execution_count": 1,
   "metadata": {
    "colab": {},
    "colab_type": "code",
    "id": "Q5UfqLBfrLWo"
   },
   "outputs": [
    {
     "data": {
      "text/html": [
       "<div>\n",
       "<style scoped>\n",
       "    .dataframe tbody tr th:only-of-type {\n",
       "        vertical-align: middle;\n",
       "    }\n",
       "\n",
       "    .dataframe tbody tr th {\n",
       "        vertical-align: top;\n",
       "    }\n",
       "\n",
       "    .dataframe thead th {\n",
       "        text-align: right;\n",
       "    }\n",
       "</style>\n",
       "<table border=\"1\" class=\"dataframe\">\n",
       "  <thead>\n",
       "    <tr style=\"text-align: right;\">\n",
       "      <th></th>\n",
       "      <th>Fe_uM</th>\n",
       "      <th>A1</th>\n",
       "      <th>A2</th>\n",
       "      <th>A2p</th>\n",
       "      <th>sampA1</th>\n",
       "      <th>sampA2</th>\n",
       "      <th>location</th>\n",
       "    </tr>\n",
       "  </thead>\n",
       "  <tbody>\n",
       "    <tr>\n",
       "      <th>0</th>\n",
       "      <td>9.8</td>\n",
       "      <td>0.002</td>\n",
       "      <td>0.124</td>\n",
       "      <td>0.108</td>\n",
       "      <td>0.352</td>\n",
       "      <td>0.464</td>\n",
       "      <td>test sample</td>\n",
       "    </tr>\n",
       "    <tr>\n",
       "      <th>1</th>\n",
       "      <td>19.8</td>\n",
       "      <td>0.004</td>\n",
       "      <td>0.229</td>\n",
       "      <td>0.201</td>\n",
       "      <td>NaN</td>\n",
       "      <td>NaN</td>\n",
       "      <td>NaN</td>\n",
       "    </tr>\n",
       "    <tr>\n",
       "      <th>2</th>\n",
       "      <td>27.6</td>\n",
       "      <td>0.006</td>\n",
       "      <td>0.325</td>\n",
       "      <td>0.295</td>\n",
       "      <td>NaN</td>\n",
       "      <td>NaN</td>\n",
       "      <td>NaN</td>\n",
       "    </tr>\n",
       "    <tr>\n",
       "      <th>3</th>\n",
       "      <td>39.9</td>\n",
       "      <td>0.008</td>\n",
       "      <td>0.431</td>\n",
       "      <td>0.390</td>\n",
       "      <td>NaN</td>\n",
       "      <td>NaN</td>\n",
       "      <td>NaN</td>\n",
       "    </tr>\n",
       "  </tbody>\n",
       "</table>\n",
       "</div>"
      ],
      "text/plain": [
       "   Fe_uM     A1     A2    A2p  sampA1  sampA2     location\n",
       "0    9.8  0.002  0.124  0.108   0.352   0.464  test sample\n",
       "1   19.8  0.004  0.229  0.201     NaN     NaN          NaN\n",
       "2   27.6  0.006  0.325  0.295     NaN     NaN          NaN\n",
       "3   39.9  0.008  0.431  0.390     NaN     NaN          NaN"
      ]
     },
     "execution_count": 1,
     "metadata": {},
     "output_type": "execute_result"
    }
   ],
   "source": [
    "# import the numpy module so we can call various functions for the linear regression\n",
    "import numpy as np\n",
    "import pandas as pd\n",
    "df=pd.DataFrame()\n",
    "# iron standard concentrations in micromolar\n",
    "df['Fe_uM'] = [9.8,19.8,27.6,39.9]\n",
    "# A1 absorbances\n",
    "df['A1'] = [0.002,0.004,0.006,0.008]\n",
    "# A2 absorbances\n",
    "df['A2'] = [0.124,0.229,0.325,0.431]\n",
    "# A2' absorbances\n",
    "df['A2p'] = [0.108,0.201,0.295,0.390]\n",
    "# Absorbances for you unknown sample\n",
    "df['sampA1'] = [0.352,np.nan,np.nan,np.nan]\n",
    "df['sampA2'] = [0.464,np.nan,np.nan,np.nan]\n",
    "# name of samples\n",
    "df['location'] = ['test sample',np.nan,np.nan,np.nan]\n",
    "df"
   ]
  },
  {
   "cell_type": "markdown",
   "metadata": {
    "colab_type": "text",
    "id": "PwpuRRnOraTv"
   },
   "source": [
    "# Parameter derivation\n",
    "Now that the data is uploaded we need to derive some values for the analysis. The parameters we need to derive from the data are $\\epsilon_{Fe(II)}$, $\\epsilon_{Fe(III)}$, and $\\alpha$. The pathlength ($l$) is 1 cm and $A_1$ and $A_2$ are the absorbance measurments you are given. \n",
    "\n",
    "$$C_{Fe(II)}=\\frac{A_1\\epsilon{_{Fe(II)}}l\\alpha-A_2\\epsilon{_{Fe(III)}}l}{\\epsilon{_{Fe(II)}}l\\alpha(\\epsilon{_{Fe(II)}}l-\\epsilon{_{Fe(III)}}l}$$\n",
    "\n",
    "$$C_{Fe(III)}=\\frac{A_2-A_1\\alpha}{\\alpha(\\epsilon{_{Fe(II)}}l-\\epsilon{_{Fe(III)}}l)}$$\n",
    "\n",
    "Let's start with deriving $\\epsilon_{Fe(III)}$ from the $A_1$ measurements of the standards. We need to perform a linear regression with the $A_1$ measurements and iron concentrations of the standards."
   ]
  },
  {
   "cell_type": "code",
   "execution_count": 2,
   "metadata": {
    "colab": {},
    "colab_type": "code",
    "id": "wSxe07VlwgTT"
   },
   "outputs": [
    {
     "name": "stdout",
     "output_type": "stream",
     "text": [
      "r squared = 0.993\n",
      "Epsilon Fe(III) = 0.000202373\n"
     ]
    },
    {
     "data": {
      "image/png": "[encoded data removed]",
      "text/plain": [
       "<Figure size 432x288 with 1 Axes>"
      ]
     },
     "metadata": {},
     "output_type": "display_data"
    }
   ],
   "source": [
    "# get the coefficients for the linear regression fit to our extracted portion of data\n",
    "A1coefficients = np.polyfit(df['Fe_uM'],df['A1'],1)\n",
    "epsFe3 = A1coefficients[0]\n",
    "# put those coefficients into a 1st degree polynomial so we can calculate some points to \n",
    "# show the linear regression on our plot\n",
    "A1polynomial = np.poly1d(A1coefficients)\n",
    "A1fit_line=A1polynomial(df['Fe_uM'])\n",
    "\n",
    "# calculate the coefficient of determination also known as r^2\n",
    "residuals = df['A1'] - A1fit_line\n",
    "ss_res = np.sum(residuals**2)\n",
    "ss_tot = np.sum((df['A1']-np.mean(df['A1']))**2)\n",
    "r_squared = 1 - (ss_res / ss_tot)\n",
    "print('r squared = %.3f' % r_squared)\n",
    "print('Epsilon Fe(III) = %g' % epsFe3)\n",
    "\n",
    "# to plot the data we need to import matlibplot\n",
    "import matplotlib.pyplot as plt\n",
    "# to make the plots look nicer we will import the seaborn module\n",
    "import seaborn as sns\n",
    "sns.set()\n",
    "# plot the data and label the axes\n",
    "plt.figure()\n",
    "plt.scatter(df['Fe_uM'],df['A1'])\n",
    "plt.plot(df['Fe_uM'],A1fit_line)\n",
    "plt.xlabel(r\"Fe(III) $\\mu$M\")\n",
    "plt.ylabel('A1 absorbance')\n",
    "\n",
    "# Save and download the plot in various file formats\n",
    "plt.savefig('ferrozine_A1.png',bbox_inches='tight')\n",
    "plt.savefig('ferrozine_A1.pdf',bbox_inches='tight')"
   ]
  },
  {
   "cell_type": "markdown",
   "metadata": {
    "colab_type": "text",
    "id": "A3C392oE0Peo"
   },
   "source": [
    "# $\\epsilon_{Fe(II)}$ derivation\n",
    "Now let's calculate $\\epsilon_{Fe(II)}$ from the $A_2$ measurements of the standards."
   ]
  },
  {
   "cell_type": "code",
   "execution_count": 3,
   "metadata": {
    "colab": {},
    "colab_type": "code",
    "id": "_psDpbhl0axc"
   },
   "outputs": [
    {
     "name": "stdout",
     "output_type": "stream",
     "text": [
      "r squared = 0.995\n",
      "Epsilon Fe(II) = 0.010305\n"
     ]
    },
    {
     "data": {
      "image/png": "[encoded data removed]",
      "text/plain": [
       "<Figure size 432x288 with 1 Axes>"
      ]
     },
     "metadata": {},
     "output_type": "display_data"
    }
   ],
   "source": [
    "# get the coefficients for the linear regression fit to our extracted portion of data\n",
    "A2coefficients = np.polyfit(df['Fe_uM'],df['A2'],1)\n",
    "epsFe2 = A2coefficients[0]\n",
    "\n",
    "# put those coefficients into a 1st degree polynomial so we can calculate some points to \n",
    "# show the linear regression on our plot\n",
    "A2polynomial = np.poly1d(A2coefficients)\n",
    "A2fit_line=A2polynomial(df['Fe_uM'])\n",
    "\n",
    "# calculate the coefficient of determination also known as r^2\n",
    "residuals = df['A2'] - A2fit_line\n",
    "ss_res = np.sum(residuals**2)\n",
    "ss_tot = np.sum((df['A2']-np.mean(df['A2']))**2)\n",
    "r_squared = 1 - (ss_res / ss_tot)\n",
    "print('r squared = %.3f' % r_squared)\n",
    "print('Epsilon Fe(II) = %g' % epsFe2)\n",
    "\n",
    "# plot the data and label the axes\n",
    "plt.figure()\n",
    "plt.scatter(df['Fe_uM'],df['A2'])\n",
    "plt.plot(df['Fe_uM'],A2fit_line)\n",
    "plt.xlabel(r\"Fe(II) $\\mu$M\")\n",
    "plt.ylabel('A2 absorbance')\n",
    "\n",
    "# Save and download the plot in various file formats\n",
    "plt.savefig('ferrozine_A2.png',bbox_inches='tight')\n",
    "plt.savefig('ferrozine_A2.pdf',bbox_inches='tight')"
   ]
  },
  {
   "cell_type": "markdown",
   "metadata": {
    "colab_type": "text",
    "id": "nIiM64rM1PZR"
   },
   "source": [
    "# Dilution factor\n",
    "The last variable we need to derive from our data is dilution factor: $\\alpha$."
   ]
  },
  {
   "cell_type": "code",
   "execution_count": 4,
   "metadata": {
    "colab": {},
    "colab_type": "code",
    "id": "ih32Fe1x1lpM"
   },
   "outputs": [
    {
     "name": "stdout",
     "output_type": "stream",
     "text": [
      "alpha = 0.89\n"
     ]
    }
   ],
   "source": [
    "# to calculate the dilution factor we need to take the average dilution of our standards\n",
    "alpha = np.mean(df['A2p']/df['A2'])\n",
    "print('alpha = %.2f' % alpha)"
   ]
  },
  {
   "cell_type": "markdown",
   "metadata": {
    "colab_type": "text",
    "id": "1jiIAfUQ2Q2e"
   },
   "source": [
    "# Calculation of iron in unknown samples\n",
    "Now we can calculate Fe(III) and Fe(II) in our sample from the absorbance measurements. "
   ]
  },
  {
   "cell_type": "code",
   "execution_count": 5,
   "metadata": {
    "colab": {},
    "colab_type": "code",
    "id": "H7snarJN2lZr"
   },
   "outputs": [
    {
     "name": "stdout",
     "output_type": "stream",
     "text": [
      "test sample: Fe(III) = 12.45 uM, Fe(II) = 33.94 uM\n"
     ]
    }
   ],
   "source": [
    "for i in range(4):\n",
    "    if pd.isna(df['sampA1'][i]) == False: \n",
    "        # sample absorbance measurements\n",
    "        A1 = df['sampA1'][i]\n",
    "        A2 = df['sampA2'][i]\n",
    "        \n",
    "        # length of cuvette\n",
    "        l = 1\n",
    "        \n",
    "        # Fe(III) concentration\n",
    "        Fe3 = (A2-A1)*alpha/(alpha*(epsFe2*l-epsFe3*l))\n",
    "        \n",
    "        # Fe(II) concentration\n",
    "        Fe2 = (A1*epsFe2*l*alpha - A2*epsFe3*l*alpha)/(epsFe2*l*alpha*(epsFe2*l-epsFe3*l))\n",
    "        \n",
    "        # print the concentrations\n",
    "        print('%s: Fe(III) = %.2f uM, Fe(II) = %.2f uM' % (df['location'][i],Fe3,Fe2))"
   ]
  },
  {
   "cell_type": "code",
   "execution_count": null,
   "metadata": {},
   "outputs": [],
   "source": []
  }
 ],
 "metadata": {
  "colab": {
   "name": "Ferrozine.ipynb",
   "provenance": []
  },
  "kernelspec": {
   "display_name": "Python 3 (ipykernel)",
   "language": "python",
   "name": "python3"
  },
  "language_info": {
   "codemirror_mode": {
    "name": "ipython",
    "version": 3
   },
   "file_extension": ".py",
   "mimetype": "text/x-python",
   "name": "python",
   "nbconvert_exporter": "python",
   "pygments_lexer": "ipython3",
   "version": "3.8.8"
  }
 },
 "nbformat": 4,
 "nbformat_minor": 4
}

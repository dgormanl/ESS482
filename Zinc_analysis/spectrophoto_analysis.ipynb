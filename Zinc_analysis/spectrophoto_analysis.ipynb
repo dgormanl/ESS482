{
 "cells": [
  {
   "cell_type": "markdown",
   "metadata": {
    "colab_type": "text",
    "id": "Jc7WYWgXqsIQ"
   },
   "source": [
    "# Spectrophotometric Analysis\n",
    "This notebooks is written to analyze data from a colorimetric techniqes. The data must be in the proper format to read by this script."
   ]
  },
  {
   "cell_type": "code",
   "execution_count": null,
   "metadata": {},
   "outputs": [],
   "source": [
    "import numpy as np\n",
    "import pandas as pd\n",
    "from IPython import display\n",
    "from scipy.optimize import curve_fit"
   ]
  },
  {
   "attachments": {},
   "cell_type": "markdown",
   "metadata": {},
   "source": [
    "# How many samples do you have? What kind of experiment was this?"
   ]
  },
  {
   "cell_type": "code",
   "execution_count": null,
   "metadata": {},
   "outputs": [],
   "source": [
    "# replace the value with the number of samples you have to analyze\n",
    "samples = 18\n",
    "\n",
    "# name the experiment 'bacteria' or 'mineral'\n",
    "experiment = 'bacteria'\n",
    "\n",
    "# creation of a dataframe to hold your data plus one additional line for experimental parameters\n",
    "df = pd.DataFrame(\n",
    "    index=range(0, samples + 1),\n",
    "    columns=[\n",
    "        \"solidconc_gl\",\n",
    "        \"std\",\n",
    "        \"abs\",\n",
    "        \"sample_name\",\n",
    "        \"pH\",\n",
    "        \"sampabs\",\n",
    "        \"tot_zn_ppm\",\n",
    "    ],\n",
    ")"
   ]
  },
  {
   "cell_type": "markdown",
   "metadata": {
    "colab": {
     "base_uri": "https://localhost:8080/",
     "height": 394
    },
    "colab_type": "code",
    "id": "Q5UfqLBfrLWo",
    "outputId": "0b85b3fc-ac4d-4ac4-d7e9-d8f38c4bc87d"
   },
   "source": [
    "# Data input\n",
    "Replace the data for `sample_name`, `pH`, `std`, `abs`, and `sampleabs` with your own data. Other parameters are already filled in for you."
   ]
  },
  {
   "cell_type": "code",
   "execution_count": null,
   "metadata": {},
   "outputs": [],
   "source": [
    "# Solid concentration in your experiment (already correct)\n",
    "solidconc = 5\n",
    "# Total concentration of zinc in the experiment (already correct)\n",
    "tot_zn_ppm = 3\n",
    "# Zinc concentrations of the standards (already correct)\n",
    "standards = [0.46, 1.03, 3.02, 6.04]\n",
    "# Replace the data with the absorbance of your standards, lowest concentration to highest\n",
    "stdabs = [0.012, 0.034, 0.112, 0.230]\n",
    "# Replace the data with your sample names, be sure the names are within quotes\n",
    "sample_name = [\"1\", \"2\", \"3\", \"4\", \"5\", \"6\", \"7\", \"8\", \"9\", \"10\", \"11\"]\n",
    "# Replace the data with your sample pH values\n",
    "pH = [2.25, 2.33, 3.05, 4.33, 4.84, 5.04, 5.06, 5.77, 5.99, 6.16, 6.83]\n",
    "# Replace the data with the absorbance values for your samples\n",
    "sampabs = [0.235, 0.220, 0.234, 0.17, 0.123, 0.055, 0.054, 0.038, 0.009, 0.001, 0.004]"
   ]
  },
  {
   "cell_type": "markdown",
   "metadata": {},
   "source": [
    "# Check input data\n",
    "Run the next cell and make sure it looks like the example data above"
   ]
  },
  {
   "cell_type": "code",
   "execution_count": null,
   "metadata": {},
   "outputs": [],
   "source": [
    "df.loc[0, \"solidconc_gl\"] = solidconc\n",
    "df.loc[0, \"tot_zn_ppm\"] = tot_zn_ppm\n",
    "df.loc[0:3, \"std\"] = standards\n",
    "df.loc[0:3, \"abs\"] = stdabs\n",
    "df.loc[0 : len(sample_name) - 1, \"sample_name\"] = sample_name\n",
    "df.loc[0 : len(sample_name) - 1, \"pH\"] = pH\n",
    "df.loc[0 : len(sample_name) - 1, \"sampabs\"] = sampabs\n",
    "df"
   ]
  },
  {
   "cell_type": "markdown",
   "metadata": {
    "colab_type": "text",
    "id": "PwpuRRnOraTv"
   },
   "source": [
    "# Calibration curve\n",
    "Now that the data is uploaded we need to perform a linear regression to create the calibration curve. We will use the Beer-Lambert law (or Beer's law), where $A$ is absorbance, $\\epsilon$ is the molar absorptivity, $l$ is path length, and $C$ is concentration, to create our calibration curve.  \n",
    "\n",
    "$$A=\\epsilon{l}C$$\n",
    "\n",
    "We can see that Beer's law is the equation for a straight line with an intercept of zero. Theoretically this makes sense in that if there are no absorbing molecules present then the absorbance should be zero. Realistically this doesn't happen. For example, analytical instruments don't behave ideally (i.e., there is always some background noise in signals) and blank substractions aren't perfect. So our best fit line will include an intercept. A calibration shouldn't go through the origin unless it demonstrated that the intercept is not statistically different than zero by calculating a t-ratio. For our spectrophotometric analysis the intercept will be statistically different than zero so we must include it.\n",
    "\n",
    "There are many different ways to fit linear models in Python. I've chosen to use the SciPy module just demonstrate a different way of fitting than is found in the ferrozine analysis script."
   ]
  },
  {
   "cell_type": "code",
   "execution_count": null,
   "metadata": {
    "colab": {
     "base_uri": "https://localhost:8080/",
     "height": 243
    },
    "colab_type": "code",
    "id": "oT5Oy6PhBGOE",
    "outputId": "51ca6a57-090a-433d-ccd1-e7da981546fc"
   },
   "outputs": [],
   "source": [
    "# Use SciPy to determine our calibration curve\n",
    "\n",
    "\n",
    "# define a function for the equation of a straight line\n",
    "def func(x, p1, p2):\n",
    "    return x * p1 + p2\n",
    "\n",
    "\n",
    "# rename the calibration data x and y and select range with data leaving out the nans\n",
    "x = df[\"std\"][0:4]\n",
    "y = df[\"abs\"][0:4]\n",
    "# run the regression and save the output parameter (slope and intercept) in popt and save the covariance matrix in pcov\n",
    "popt, pcov = curve_fit(func, x, y, p0=[0.003, 0])\n",
    "# calculate the coefficient of determination also known as r^2\n",
    "residuals = y - func(x, popt[0], popt[1])\n",
    "ss_res = np.sum(residuals**2)\n",
    "ss_tot = np.sum((y - np.mean(y)) ** 2)\n",
    "r_squared = 1 - (ss_res / ss_tot)\n",
    "\n",
    "# intercept\n",
    "b = popt[1]\n",
    "# slope\n",
    "m = popt[0]\n",
    "# print fit parameters and error\n",
    "print(\"Calibration equation\\t r-squared\")\n",
    "print(\"y = %.4f*x + %.4f\\t %f\" % (m, b, r_squared))\n",
    "print(\"\\n\")\n",
    "# inverse prediction of concentration from absorbance measurements\n",
    "df[\"sampconc\"] = (df[\"sampabs\"] - b) / m\n",
    "print(df)"
   ]
  },
  {
   "cell_type": "markdown",
   "metadata": {
    "colab_type": "text",
    "id": "idbUjXNswNZS"
   },
   "source": [
    "# Zinc adsorbed\n",
    "Now you have the sample concentration, which in this case is zinc concentration in ppm. To calculate the amount of zinc adsorbed to the geomedia (bacteria or Hfo) we need to substract the concentration of zinc remaining in solution from the total concentration of zinc in the experiment. You'll be given total zinc with your dataset."
   ]
  },
  {
   "cell_type": "code",
   "execution_count": null,
   "metadata": {
    "colab": {
     "base_uri": "https://localhost:8080/",
     "height": 285
    },
    "colab_type": "code",
    "id": "NWV4sf6ew5Rw",
    "outputId": "05c99eec-c98e-4e69-d47c-ba70516d7a81"
   },
   "outputs": [],
   "source": [
    "# total zinc in this experiment was 6.1 ppm and located in the data file\n",
    "totZn = df[\"tot_zn_ppm\"][0]\n",
    "# zinc adsorbed\n",
    "df[\"Znads\"] = totZn - df[\"sampconc\"]\n",
    "# percent Zn adsorbed\n",
    "df[\"Znadsper\"] = df[\"Znads\"] / totZn * 100\n",
    "# Automatically remove nonsensical data\n",
    "df = df.drop(df.index[df['sampconc'] < 0])\n",
    "df = df.drop(df.index[df['sampconc'] > df['tot_zn_ppm'][0]])\n",
    "    \n",
    "\n",
    "# Now I want to plot this data and save the plot as a pdf to include in a Latex document.\n",
    "# I'll need to import a some modules for the plotting and downloading the plot.\n",
    "import matplotlib.pyplot as plt\n",
    "\n",
    "# to make the plots look nicer we will import the seaborn module\n",
    "import seaborn as sns\n",
    "\n",
    "sns.set()\n",
    "\n",
    "# Plotting the data using the variables I defined earlier, I also give this dataset a label to be used in a legend\n",
    "plt.scatter(df[\"pH\"], df[\"Znadsper\"])\n",
    "\n",
    "# Label the x and y axes\n",
    "plt.xlabel(\"pH\")\n",
    "plt.ylabel(\"Zn (% adsorbed)\")\n",
    "plt.ylim([0,100])\n",
    "\n",
    "# Save and download the plot\n",
    "plt.savefig(\"ads_plot.pdf\")\n",
    "plt.savefig(\"ads_plot.png\")\n",
    "\n",
    "# save the dataframe\n",
    "df.to_csv(\"df_\"+experiment+\".csv\")"
   ]
  }
 ],
 "metadata": {
  "colab": {
   "name": "spectrophoto_analysis.ipynb",
   "provenance": []
  },
  "kernelspec": {
   "display_name": "Python 3",
   "language": "python",
   "name": "python3"
  },
  "language_info": {
   "codemirror_mode": {
    "name": "ipython",
    "version": 3
   },
   "file_extension": ".py",
   "mimetype": "text/x-python",
   "name": "python",
   "nbconvert_exporter": "python",
   "pygments_lexer": "ipython3",
   "version": "3.8.10"
  }
 },
 "nbformat": 4,
 "nbformat_minor": 4
}
